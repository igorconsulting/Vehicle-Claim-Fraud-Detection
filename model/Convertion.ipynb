{
 "cells": [
  {
   "cell_type": "markdown",
   "id": "e0751dbc",
   "metadata": {},
   "source": [
    "# File Description\n",
    "\n",
    "This file was created to make the convertion clear.\n",
    "\n",
    "As in the principal project we used __OneHotEncoder__ and __OrdinalEncoder__ for some of our independet variables, we don't want that in the App when choosing, for example, the vehicle price category it appear number 0, 1, 2, ..., created by ordinal encoder. The same logic was applied to the others.\n",
    "\n",
    "So, the aim of this file was to create several json files converting the full name to the right value for that attribute that will be used in the ML model."
   ]
  },
  {
   "cell_type": "markdown",
   "id": "aae4963d",
   "metadata": {},
   "source": [
    "## Importing Libs"
   ]
  },
  {
   "cell_type": "code",
   "execution_count": 1,
   "id": "954ac366",
   "metadata": {},
   "outputs": [],
   "source": [
    "import json"
   ]
  },
  {
   "cell_type": "markdown",
   "id": "eef63c26",
   "metadata": {},
   "source": [
    "## Creating the final convertion dictonaries\n",
    "\n",
    "we created several dictionaries, using as 'keys' the values we want to appear in the App and as values the values that will be used in the model.\n",
    "\n",
    "We export each dictionary into json files. These files will be used in \"main.py\" file, that will create the App."
   ]
  },
  {
   "cell_type": "code",
   "execution_count": 9,
   "id": "eee2835a",
   "metadata": {},
   "outputs": [],
   "source": [
    "vehicle_price_cat_to_number = {'less than 20000' : 0,\n",
    "                 '20000 to 29000' : 1, \n",
    "                 '30000 to 39000' : 2, \n",
    "                 '40000 to 59000' : 3, \n",
    "                 '60000 to 69000' : 4,\n",
    "                 'more than 69000' : 5}\n",
    "all_perils_cat_to_num = {'no' : 0, 'yes' : 1}\n",
    "sedan_cat_to_num = {'no' : 0, 'yes' : 1}\n",
    "policy_holder_cat_to_num = {'no' : 0, 'yes' : 1}\n",
    "deductible = [300.0 , 400.0, 500.0, 700.0]\n",
    "address_change_claim_cat_to_num = {'no change' : 0, \n",
    "                                   'under 6 months' : 1, \n",
    "                                   '1 year' : 2, \n",
    "                                   '2 to 3 years' : 3,\n",
    "                                   '4 to 8 years' : 4 }\n"
   ]
  },
  {
   "cell_type": "code",
   "execution_count": 10,
   "id": "b0756320",
   "metadata": {},
   "outputs": [
    {
     "data": {
      "text/plain": [
       "88"
      ]
     },
     "execution_count": 10,
     "metadata": {},
     "output_type": "execute_result"
    }
   ],
   "source": [
    "open('vehicle_price_cat_to_number.json','w').write(json.dumps(vehicle_price_cat_to_number))\n",
    "open('all_perils_cat_to_num.json','w').write(json.dumps(all_perils_cat_to_num))\n",
    "open('sedan_cat_to_num.json','w').write(json.dumps(sedan_cat_to_num))\n",
    "open('policy_holder_cat_to_num.json','w').write(json.dumps(policy_holder_cat_to_num))\n",
    "open('deductible.json','w').write(json.dumps(deductible))\n",
    "open('address_change_claim_cat_to_num.json','w').write(json.dumps(address_change_claim_cat_to_num))"
   ]
  }
 ],
 "metadata": {
  "kernelspec": {
   "display_name": "Python 3 (ipykernel)",
   "language": "python",
   "name": "python3"
  },
  "language_info": {
   "codemirror_mode": {
    "name": "ipython",
    "version": 3
   },
   "file_extension": ".py",
   "mimetype": "text/x-python",
   "name": "python",
   "nbconvert_exporter": "python",
   "pygments_lexer": "ipython3",
   "version": "3.9.7"
  }
 },
 "nbformat": 4,
 "nbformat_minor": 5
}
